{
  "nbformat": 4,
  "nbformat_minor": 0,
  "metadata": {
    "colab": {
      "name": "intro_to_nlp_workshop.ipynb",
      "provenance": [],
      "include_colab_link": true
    },
    "kernelspec": {
      "name": "python3",
      "display_name": "Python 3"
    }
  },
  "cells": [
    {
      "cell_type": "markdown",
      "metadata": {
        "id": "view-in-github",
        "colab_type": "text"
      },
      "source": [
        "<a href=\"https://colab.research.google.com/github/breitbarth/Intro_to_NLP/blob/main/intro_to_nlp_workshop.ipynb\" target=\"_parent\"><img src=\"https://colab.research.google.com/assets/colab-badge.svg\" alt=\"Open In Colab\"/></a>"
      ]
    },
    {
      "cell_type": "markdown",
      "metadata": {
        "id": "KHbu5OrA4u6B"
      },
      "source": [
        "# Welcome to Google Colab\n",
        "\n",
        "Colab is essentially Google's way of hosting a [jupyter notebook](https://jupyter.org/). A very popular tool to use as a data scientist!\n",
        "\n",
        "It allows us to write code, documentation, and output visuals all in one place.\n",
        "\n",
        "To be able to and edit the code in this workshop. Please make a copy for yourself\n",
        "\n",
        "`file > save a copy in drive`\n",
        "\n",
        "This should open a new tab with your own copy of this notebook. It can take a minute to load.\n",
        "\n",
        "Colab comes with a lot of great data science libraries pre-installed. \n",
        "\n",
        "Colab also gives you some options for running complicated computations such as training deep learning model. To see access those options:\n",
        "\n",
        "`Runtime > change runtime type` Select `GPU`, `TPU`, or `None`\n",
        "\n",
        "We don't need to change anything for this workshop, but its a great resource if you start learning deep learning and don't have a powerful GPU at home. "
      ]
    },
    {
      "cell_type": "markdown",
      "metadata": {
        "id": "tg_lfi-f468Q"
      },
      "source": [
        "# Introduction to NLP"
      ]
    },
    {
      "cell_type": "markdown",
      "metadata": {
        "id": "UfAuwcU3vPVj"
      },
      "source": [
        "# What is NLP?\n",
        "\n",
        "Natural Language Processing is the field of leveraging computers to \n",
        "understand, analyze, manipulate, and even generate human language."
      ]
    },
    {
      "cell_type": "markdown",
      "metadata": {
        "id": "11tVxc21vX3I"
      },
      "source": [
        "## Why do we need NLP?\n",
        "\n",
        "> We can harness the untapped potential of unstructured text. \n",
        "\n",
        "> Whereas traditional databases and datasets contain highly structured data in row/columnar format, text is highly irregular and traditional approaches would not\n",
        "\n",
        "\n",
        "\n",
        "## High-Level Capabilities:\n",
        "\n",
        "*   Content Categorization\n",
        "*   Document Summarization\n",
        "*   Machine Translation\n",
        "*   Sentiment Analysis\n",
        "*   Speech-to-text and Text-to-speech\n",
        "*   Topic Modeling\n"
      ]
    },
    {
      "cell_type": "markdown",
      "metadata": {
        "id": "3I4ORUPexHTV"
      },
      "source": [
        "## How do we prepare the text for processing?\n",
        "\n",
        "Steps of text cleaning:\n",
        "\n",
        "1.   Acquire the text\n",
        "2.   Remove punctuation\n",
        "3.   Tokenize\n",
        "4.   Remove stopwords\n",
        "5.   Stemming or Lemmatization\n",
        "\n",
        "After the text is clean we can follow up by vectorizing the data:\n",
        "1.   Bag-of-words\n",
        "2.   TF-IDF\n"
      ]
    },
    {
      "cell_type": "markdown",
      "metadata": {
        "id": "4U1xZsLgyAiN"
      },
      "source": [
        "## We can walk through some simple examples to start\n",
        "\n",
        "We'll use an example sentence to then take through the text cleaning and vectorization process.\n",
        "\n",
        "Example:\n",
        "\n",
        "> \"Data science is an inter-disciplinary field that uses scientific methods, processes, algorithms and systems to extract knowledge and insights from many structural and unstructured data.[1][2] Data science is related to data mining, machine learning and big data.\"\n"
      ]
    },
    {
      "cell_type": "code",
      "metadata": {
        "id": "f1AlBxINvO84"
      },
      "source": [
        "example = \"Data science is an inter-disciplinary field that uses scientific methods, processes, algorithms and systems to extract knowledge and insights from many structural and unstructured data.[1][2] Data science is related to data mining, machine learning and big data.\"\n",
        "\n",
        "# lowercase it all\n",
        "lower = example.lower()"
      ],
      "execution_count": null,
      "outputs": []
    },
    {
      "cell_type": "markdown",
      "metadata": {
        "id": "IyBzV3Se95Eb"
      },
      "source": [
        "Regular Expressions are a powerful way to manipulate text. [Here](https://www.dataquest.io/blog/regex-cheatsheet/) is an additional resource on some of the most common uses."
      ]
    },
    {
      "cell_type": "code",
      "metadata": {
        "colab": {
          "base_uri": "https://localhost:8080/"
        },
        "id": "h4Htwks-yr47",
        "outputId": "f8c151ab-f566-4077-fb76-47c1da06c561"
      },
      "source": [
        "# We can use the re library to create regular expressions to parse text\n",
        "import re\n",
        "import string\n",
        "\n",
        "# string.punctuation contains most traditional punctuation marks\n",
        "print(string.punctuation)\n",
        "pattern = r\"[{}]\".format(string.punctuation)"
      ],
      "execution_count": null,
      "outputs": [
        {
          "output_type": "stream",
          "text": [
            "!\"#$%&'()*+,-./:;<=>?@[\\]^_`{|}~\n"
          ],
          "name": "stdout"
        }
      ]
    },
    {
      "cell_type": "code",
      "metadata": {
        "colab": {
          "base_uri": "https://localhost:8080/"
        },
        "id": "z5OEgBcyzHYx",
        "outputId": "1866d461-de50-4904-afd5-fbfb069ad944"
      },
      "source": [
        "no_punctuation = re.sub(pattern, \" \", lower)\n",
        "print(no_punctuation)"
      ],
      "execution_count": null,
      "outputs": [
        {
          "output_type": "stream",
          "text": [
            "data science is an inter disciplinary field that uses scientific methods  processes  algorithms and systems to extract knowledge and insights from many structural and unstructured data  1  2  data science is related to data mining  machine learning and big data \n"
          ],
          "name": "stdout"
        }
      ]
    },
    {
      "cell_type": "code",
      "metadata": {
        "colab": {
          "base_uri": "https://localhost:8080/"
        },
        "id": "S1H18TcdGNoP",
        "outputId": "36a9a85c-4def-4f18-b198-1bbf60c94a60"
      },
      "source": [
        "no_nums = re.sub(r\"[\\d+]\", \" \", no_punctuation)\n",
        "\n",
        "print(no_nums)"
      ],
      "execution_count": null,
      "outputs": [
        {
          "output_type": "stream",
          "text": [
            "data science is an inter disciplinary field that uses scientific methods  processes  algorithms and systems to extract knowledge and insights from many structural and unstructured data        data science is related to data mining  machine learning and big data \n"
          ],
          "name": "stdout"
        }
      ]
    },
    {
      "cell_type": "code",
      "metadata": {
        "colab": {
          "base_uri": "https://localhost:8080/"
        },
        "id": "_N8ILNBe2xtK",
        "outputId": "8d6d3d0b-a5e8-4c6d-8719-57e639f27bb2"
      },
      "source": [
        "# Next step is to tokenize, or split the data into individual chunks\n",
        "tokens = no_nums.split(' ')\n",
        "\n",
        "# Now let's inspect it\n",
        "tokens[0:20]"
      ],
      "execution_count": null,
      "outputs": [
        {
          "output_type": "execute_result",
          "data": {
            "text/plain": [
              "['data',\n",
              " 'science',\n",
              " 'is',\n",
              " 'an',\n",
              " 'inter',\n",
              " 'disciplinary',\n",
              " 'field',\n",
              " 'that',\n",
              " 'uses',\n",
              " 'scientific',\n",
              " 'methods',\n",
              " '',\n",
              " 'processes',\n",
              " '',\n",
              " 'algorithms',\n",
              " 'and',\n",
              " 'systems',\n",
              " 'to',\n",
              " 'extract',\n",
              " 'knowledge']"
            ]
          },
          "metadata": {
            "tags": []
          },
          "execution_count": 5
        }
      ]
    },
    {
      "cell_type": "code",
      "metadata": {
        "id": "d1FX4e9DGAOY"
      },
      "source": [
        "# remove the blanks\n",
        "no_blanks = []\n",
        "\n",
        "for token in tokens:\n",
        "  if token != '':\n",
        "    no_blanks.append(token)"
      ],
      "execution_count": null,
      "outputs": []
    },
    {
      "cell_type": "code",
      "metadata": {
        "colab": {
          "base_uri": "https://localhost:8080/"
        },
        "id": "qrBGac00G8sn",
        "outputId": "22ba814f-743b-4556-e910-3eee338b79a8"
      },
      "source": [
        "no_blanks[0:20]"
      ],
      "execution_count": null,
      "outputs": [
        {
          "output_type": "execute_result",
          "data": {
            "text/plain": [
              "['data',\n",
              " 'science',\n",
              " 'is',\n",
              " 'an',\n",
              " 'inter',\n",
              " 'disciplinary',\n",
              " 'field',\n",
              " 'that',\n",
              " 'uses',\n",
              " 'scientific',\n",
              " 'methods',\n",
              " 'processes',\n",
              " 'algorithms',\n",
              " 'and',\n",
              " 'systems',\n",
              " 'to',\n",
              " 'extract',\n",
              " 'knowledge',\n",
              " 'and',\n",
              " 'insights']"
            ]
          },
          "metadata": {
            "tags": []
          },
          "execution_count": 7
        }
      ]
    },
    {
      "cell_type": "code",
      "metadata": {
        "colab": {
          "base_uri": "https://localhost:8080/"
        },
        "id": "gA3IzM7-3tP3",
        "outputId": "101254e6-e40c-4ddc-a5aa-d1a4d7f82586"
      },
      "source": [
        "# We have to download the stopwords prior to use with NLTK (if it is the first\n",
        "# time that you've done this on a new computer)\n",
        "import nltk\n",
        "nltk.download('stopwords')\n",
        "\n",
        "# So not we can move onto stopword removal\n",
        "from nltk.corpus import stopwords\n",
        "\n",
        "# What do the stopwords look like?\n",
        "print(stopwords.words('english')[0:10])"
      ],
      "execution_count": null,
      "outputs": [
        {
          "output_type": "stream",
          "text": [
            "[nltk_data] Downloading package stopwords to /root/nltk_data...\n",
            "[nltk_data]   Package stopwords is already up-to-date!\n",
            "['i', 'me', 'my', 'myself', 'we', 'our', 'ours', 'ourselves', 'you', \"you're\"]\n"
          ],
          "name": "stdout"
        }
      ]
    },
    {
      "cell_type": "code",
      "metadata": {
        "colab": {
          "base_uri": "https://localhost:8080/"
        },
        "id": "3HDM5OAkE7sh",
        "outputId": "9da9d0e5-f2c4-45fd-af4e-b3c895359e7d"
      },
      "source": [
        "# We'll remove the punctuation in stopwords as well\n",
        "stops_nopunct = [re.sub(pattern, \"\", stop) for stop in stopwords.words('english')]\n",
        "\n",
        "print(stops_nopunct[0:10])"
      ],
      "execution_count": null,
      "outputs": [
        {
          "output_type": "stream",
          "text": [
            "['i', 'me', 'my', 'myself', 'we', 'our', 'ours', 'ourselves', 'you', 'youre']\n"
          ],
          "name": "stdout"
        }
      ]
    },
    {
      "cell_type": "code",
      "metadata": {
        "id": "u6lAe1sA3slm"
      },
      "source": [
        "def remove_stopwords(words):\n",
        "  no_stops = []\n",
        "  for word in words:\n",
        "    if word not in stops_nopunct:\n",
        "      no_stops.append(word)\n",
        "  return no_stops"
      ],
      "execution_count": null,
      "outputs": []
    },
    {
      "cell_type": "code",
      "metadata": {
        "colab": {
          "base_uri": "https://localhost:8080/"
        },
        "id": "q4L_gSInFln-",
        "outputId": "7585ca68-bf9d-486b-c0b5-3c3f2c4859da"
      },
      "source": [
        "no_stops = remove_stopwords(no_blanks)\n",
        "no_stops"
      ],
      "execution_count": null,
      "outputs": [
        {
          "output_type": "execute_result",
          "data": {
            "text/plain": [
              "['data',\n",
              " 'science',\n",
              " 'inter',\n",
              " 'disciplinary',\n",
              " 'field',\n",
              " 'uses',\n",
              " 'scientific',\n",
              " 'methods',\n",
              " 'processes',\n",
              " 'algorithms',\n",
              " 'systems',\n",
              " 'extract',\n",
              " 'knowledge',\n",
              " 'insights',\n",
              " 'many',\n",
              " 'structural',\n",
              " 'unstructured',\n",
              " 'data',\n",
              " 'data',\n",
              " 'science',\n",
              " 'related',\n",
              " 'data',\n",
              " 'mining',\n",
              " 'machine',\n",
              " 'learning',\n",
              " 'big',\n",
              " 'data']"
            ]
          },
          "metadata": {
            "tags": []
          },
          "execution_count": 11
        }
      ]
    },
    {
      "cell_type": "markdown",
      "metadata": {
        "id": "bYpcej8GBXzo"
      },
      "source": [
        "Additional Information on [PorterStemmer](https://tartarus.org/martin/PorterStemmer/) and [SnowballStemmer](http://snowball.tartarus.org/algorithms/english/stemmer.html)\n",
        "\n",
        "---\n",
        "\n"
      ]
    },
    {
      "cell_type": "code",
      "metadata": {
        "colab": {
          "base_uri": "https://localhost:8080/"
        },
        "id": "KQBXcB5wHUdJ",
        "outputId": "618cacc1-14b2-4fc9-e6a4-337a518ce2d8"
      },
      "source": [
        "# Must also download WordNet on NLTK (first time)\n",
        "nltk.download('wordnet')\n",
        "\n",
        "# Stemming vs Lemmatization\n",
        "from nltk.stem import PorterStemmer, LancasterStemmer, SnowballStemmer\n",
        "from nltk.stem import WordNetLemmatizer\n",
        "\n",
        "# Stemmers\n",
        "ps = PorterStemmer()\n",
        "ls = LancasterStemmer()\n",
        "ss = SnowballStemmer('english')\n",
        "\n",
        "# Lemmatizer\n",
        "wn = WordNetLemmatizer()"
      ],
      "execution_count": null,
      "outputs": [
        {
          "output_type": "stream",
          "text": [
            "[nltk_data] Downloading package wordnet to /root/nltk_data...\n",
            "[nltk_data]   Package wordnet is already up-to-date!\n"
          ],
          "name": "stdout"
        }
      ]
    },
    {
      "cell_type": "code",
      "metadata": {
        "colab": {
          "base_uri": "https://localhost:8080/"
        },
        "id": "QuY0_B7_KLrF",
        "outputId": "eb718586-0232-4eb8-af68-254a1c06d00f"
      },
      "source": [
        "# Let's try a word that has different tenses\n",
        "test_words = ['waited', 'waits', 'waiting']\n",
        "\n",
        "for word in test_words:\n",
        "  print(ps.stem(word), ls.stem(word), ss.stem(word), wn.lemmatize(word))"
      ],
      "execution_count": null,
      "outputs": [
        {
          "output_type": "stream",
          "text": [
            "wait wait wait waited\n",
            "wait wait wait wait\n",
            "wait wait wait waiting\n"
          ],
          "name": "stdout"
        }
      ]
    },
    {
      "cell_type": "markdown",
      "metadata": {
        "id": "7miTinmFJVGV"
      },
      "source": [
        "Try each type of stemmer and lemmatizer on any words that you can think of and observe how they change!"
      ]
    },
    {
      "cell_type": "code",
      "metadata": {
        "id": "qgWNDtk3JUyF"
      },
      "source": [
        "# Your code here\n"
      ],
      "execution_count": null,
      "outputs": []
    },
    {
      "cell_type": "code",
      "metadata": {
        "colab": {
          "base_uri": "https://localhost:8080/",
          "height": 348
        },
        "id": "VPVwEA5wHToa",
        "outputId": "9c43c615-ad70-4f0a-fccb-d721ee521c37"
      },
      "source": [
        "import pandas as pd\n",
        "\n",
        "# We'll create an empty list to store the outputs so we can compare them easily\n",
        "diff_forms = []\n",
        "\n",
        "# Process every word with every type of stemmer and also lemma\n",
        "for word in no_blanks:\n",
        "  diff_forms.append([ps.stem(word), ls.stem(word), ss.stem(word), \n",
        "                          wn.lemmatize(word)])\n",
        "\n",
        "processer_names = ['Porter', 'Lancaster', 'Snowball', 'WordNet_Lemma']\n",
        "\n",
        "diff_stems_df = pd.DataFrame(diff_forms, columns=processer_names)\n",
        "diff_stems_df.head(10)"
      ],
      "execution_count": null,
      "outputs": [
        {
          "output_type": "execute_result",
          "data": {
            "text/html": [
              "<div>\n",
              "<style scoped>\n",
              "    .dataframe tbody tr th:only-of-type {\n",
              "        vertical-align: middle;\n",
              "    }\n",
              "\n",
              "    .dataframe tbody tr th {\n",
              "        vertical-align: top;\n",
              "    }\n",
              "\n",
              "    .dataframe thead th {\n",
              "        text-align: right;\n",
              "    }\n",
              "</style>\n",
              "<table border=\"1\" class=\"dataframe\">\n",
              "  <thead>\n",
              "    <tr style=\"text-align: right;\">\n",
              "      <th></th>\n",
              "      <th>Porter</th>\n",
              "      <th>Lancaster</th>\n",
              "      <th>Snowball</th>\n",
              "      <th>WordNet_Lemma</th>\n",
              "    </tr>\n",
              "  </thead>\n",
              "  <tbody>\n",
              "    <tr>\n",
              "      <th>0</th>\n",
              "      <td>data</td>\n",
              "      <td>dat</td>\n",
              "      <td>data</td>\n",
              "      <td>data</td>\n",
              "    </tr>\n",
              "    <tr>\n",
              "      <th>1</th>\n",
              "      <td>scienc</td>\n",
              "      <td>sci</td>\n",
              "      <td>scienc</td>\n",
              "      <td>science</td>\n",
              "    </tr>\n",
              "    <tr>\n",
              "      <th>2</th>\n",
              "      <td>is</td>\n",
              "      <td>is</td>\n",
              "      <td>is</td>\n",
              "      <td>is</td>\n",
              "    </tr>\n",
              "    <tr>\n",
              "      <th>3</th>\n",
              "      <td>an</td>\n",
              "      <td>an</td>\n",
              "      <td>an</td>\n",
              "      <td>an</td>\n",
              "    </tr>\n",
              "    <tr>\n",
              "      <th>4</th>\n",
              "      <td>inter</td>\n",
              "      <td>int</td>\n",
              "      <td>inter</td>\n",
              "      <td>inter</td>\n",
              "    </tr>\n",
              "    <tr>\n",
              "      <th>5</th>\n",
              "      <td>disciplinari</td>\n",
              "      <td>disciplin</td>\n",
              "      <td>disciplinari</td>\n",
              "      <td>disciplinary</td>\n",
              "    </tr>\n",
              "    <tr>\n",
              "      <th>6</th>\n",
              "      <td>field</td>\n",
              "      <td>field</td>\n",
              "      <td>field</td>\n",
              "      <td>field</td>\n",
              "    </tr>\n",
              "    <tr>\n",
              "      <th>7</th>\n",
              "      <td>that</td>\n",
              "      <td>that</td>\n",
              "      <td>that</td>\n",
              "      <td>that</td>\n",
              "    </tr>\n",
              "    <tr>\n",
              "      <th>8</th>\n",
              "      <td>use</td>\n",
              "      <td>us</td>\n",
              "      <td>use</td>\n",
              "      <td>us</td>\n",
              "    </tr>\n",
              "    <tr>\n",
              "      <th>9</th>\n",
              "      <td>scientif</td>\n",
              "      <td>sci</td>\n",
              "      <td>scientif</td>\n",
              "      <td>scientific</td>\n",
              "    </tr>\n",
              "  </tbody>\n",
              "</table>\n",
              "</div>"
            ],
            "text/plain": [
              "         Porter  Lancaster      Snowball WordNet_Lemma\n",
              "0          data        dat          data          data\n",
              "1        scienc        sci        scienc       science\n",
              "2            is         is            is            is\n",
              "3            an         an            an            an\n",
              "4         inter        int         inter         inter\n",
              "5  disciplinari  disciplin  disciplinari  disciplinary\n",
              "6         field      field         field         field\n",
              "7          that       that          that          that\n",
              "8           use         us           use            us\n",
              "9      scientif        sci      scientif    scientific"
            ]
          },
          "metadata": {
            "tags": []
          },
          "execution_count": 15
        }
      ]
    },
    {
      "cell_type": "markdown",
      "metadata": {
        "id": "jIn-2u-4Bvsz"
      },
      "source": [
        "Resource on [List Comprehensions](https://docs.python.org/3/tutorial/datastructures.html#list-comprehensions)"
      ]
    },
    {
      "cell_type": "code",
      "metadata": {
        "id": "9gHNGizDLza9"
      },
      "source": [
        "# The Vectorizers work better with string forms, we rejoin the words\n",
        "stemmed_text = [' '.join([ps.stem(word) for word in no_stops])]"
      ],
      "execution_count": null,
      "outputs": []
    },
    {
      "cell_type": "code",
      "metadata": {
        "colab": {
          "base_uri": "https://localhost:8080/"
        },
        "id": "FXfNpE2ML6I5",
        "outputId": "37414a15-48d7-4e68-ce01-094825dce677"
      },
      "source": [
        "stemmed_text"
      ],
      "execution_count": null,
      "outputs": [
        {
          "output_type": "execute_result",
          "data": {
            "text/plain": [
              "['data scienc is an inter disciplinari field that use scientif method process algorithm and system to extract knowledg and insight from mani structur and unstructur data data scienc is relat to data mine machin learn and big data']"
            ]
          },
          "metadata": {
            "tags": []
          },
          "execution_count": 17
        }
      ]
    },
    {
      "cell_type": "code",
      "metadata": {
        "id": "p5cREK1IIWgc"
      },
      "source": [
        "# Now we can move to vectorize the processed text\n",
        "\n",
        "# Necessary imports\n",
        "from sklearn.feature_extraction.text import CountVectorizer, TfidfVectorizer\n",
        "\n",
        "cv = CountVectorizer()\n",
        "tfidf = TfidfVectorizer()"
      ],
      "execution_count": null,
      "outputs": []
    },
    {
      "cell_type": "code",
      "metadata": {
        "colab": {
          "base_uri": "https://localhost:8080/"
        },
        "id": "cfJO9HSwLPiL",
        "outputId": "165b8d08-b36d-4685-9e66-139b2ae26e1c"
      },
      "source": [
        "bow = cv.fit_transform(stemmed_text)\n",
        "bow"
      ],
      "execution_count": null,
      "outputs": [
        {
          "output_type": "execute_result",
          "data": {
            "text/plain": [
              "<1x28 sparse matrix of type '<class 'numpy.int64'>'\n",
              "\twith 28 stored elements in Compressed Sparse Row format>"
            ]
          },
          "metadata": {
            "tags": []
          },
          "execution_count": 19
        }
      ]
    },
    {
      "cell_type": "markdown",
      "metadata": {
        "id": "OH1gBmymMv8F"
      },
      "source": [
        "But what does this output look like?"
      ]
    },
    {
      "cell_type": "code",
      "metadata": {
        "colab": {
          "base_uri": "https://localhost:8080/"
        },
        "id": "TLIykrrTMuZ_",
        "outputId": "5dfa5c89-8a1e-43c5-bede-091cac6edf8f"
      },
      "source": [
        "print(bow.todense())"
      ],
      "execution_count": null,
      "outputs": [
        {
          "output_type": "stream",
          "text": [
            "[[1 1 4 1 5 1 1 1 1 1 1 2 1 1 1 1 1 1 1 1 2 1 1 1 1 2 1 1]]\n"
          ],
          "name": "stdout"
        }
      ]
    },
    {
      "cell_type": "code",
      "metadata": {
        "colab": {
          "base_uri": "https://localhost:8080/"
        },
        "id": "tVtAUQ42MYsP",
        "outputId": "a0bd1f16-1bde-4d2f-cc47-595e96684037"
      },
      "source": [
        "print(cv.get_feature_names())"
      ],
      "execution_count": null,
      "outputs": [
        {
          "output_type": "stream",
          "text": [
            "['algorithm', 'an', 'and', 'big', 'data', 'disciplinari', 'extract', 'field', 'from', 'insight', 'inter', 'is', 'knowledg', 'learn', 'machin', 'mani', 'method', 'mine', 'process', 'relat', 'scienc', 'scientif', 'structur', 'system', 'that', 'to', 'unstructur', 'use']\n"
          ],
          "name": "stdout"
        }
      ]
    },
    {
      "cell_type": "code",
      "metadata": {
        "colab": {
          "base_uri": "https://localhost:8080/",
          "height": 98
        },
        "id": "zHQvZe2gMK1f",
        "outputId": "966a0725-6df8-4275-fd92-f1d2c67eed39"
      },
      "source": [
        "pd.DataFrame(bow.todense(), columns=cv.get_feature_names())"
      ],
      "execution_count": null,
      "outputs": [
        {
          "output_type": "execute_result",
          "data": {
            "text/html": [
              "<div>\n",
              "<style scoped>\n",
              "    .dataframe tbody tr th:only-of-type {\n",
              "        vertical-align: middle;\n",
              "    }\n",
              "\n",
              "    .dataframe tbody tr th {\n",
              "        vertical-align: top;\n",
              "    }\n",
              "\n",
              "    .dataframe thead th {\n",
              "        text-align: right;\n",
              "    }\n",
              "</style>\n",
              "<table border=\"1\" class=\"dataframe\">\n",
              "  <thead>\n",
              "    <tr style=\"text-align: right;\">\n",
              "      <th></th>\n",
              "      <th>algorithm</th>\n",
              "      <th>an</th>\n",
              "      <th>and</th>\n",
              "      <th>big</th>\n",
              "      <th>data</th>\n",
              "      <th>disciplinari</th>\n",
              "      <th>extract</th>\n",
              "      <th>field</th>\n",
              "      <th>from</th>\n",
              "      <th>insight</th>\n",
              "      <th>inter</th>\n",
              "      <th>is</th>\n",
              "      <th>knowledg</th>\n",
              "      <th>learn</th>\n",
              "      <th>machin</th>\n",
              "      <th>mani</th>\n",
              "      <th>method</th>\n",
              "      <th>mine</th>\n",
              "      <th>process</th>\n",
              "      <th>relat</th>\n",
              "      <th>scienc</th>\n",
              "      <th>scientif</th>\n",
              "      <th>structur</th>\n",
              "      <th>system</th>\n",
              "      <th>that</th>\n",
              "      <th>to</th>\n",
              "      <th>unstructur</th>\n",
              "      <th>use</th>\n",
              "    </tr>\n",
              "  </thead>\n",
              "  <tbody>\n",
              "    <tr>\n",
              "      <th>0</th>\n",
              "      <td>1</td>\n",
              "      <td>1</td>\n",
              "      <td>4</td>\n",
              "      <td>1</td>\n",
              "      <td>5</td>\n",
              "      <td>1</td>\n",
              "      <td>1</td>\n",
              "      <td>1</td>\n",
              "      <td>1</td>\n",
              "      <td>1</td>\n",
              "      <td>1</td>\n",
              "      <td>2</td>\n",
              "      <td>1</td>\n",
              "      <td>1</td>\n",
              "      <td>1</td>\n",
              "      <td>1</td>\n",
              "      <td>1</td>\n",
              "      <td>1</td>\n",
              "      <td>1</td>\n",
              "      <td>1</td>\n",
              "      <td>2</td>\n",
              "      <td>1</td>\n",
              "      <td>1</td>\n",
              "      <td>1</td>\n",
              "      <td>1</td>\n",
              "      <td>2</td>\n",
              "      <td>1</td>\n",
              "      <td>1</td>\n",
              "    </tr>\n",
              "  </tbody>\n",
              "</table>\n",
              "</div>"
            ],
            "text/plain": [
              "   algorithm  an  and  big  data  ...  system  that  to  unstructur  use\n",
              "0          1   1    4    1     5  ...       1     1   2           1    1\n",
              "\n",
              "[1 rows x 28 columns]"
            ]
          },
          "metadata": {
            "tags": []
          },
          "execution_count": 22
        }
      ]
    },
    {
      "cell_type": "markdown",
      "metadata": {
        "id": "0XLMRnXwNaH9"
      },
      "source": [
        "$tfidf(t, d, D) = tf(t,d) \\cdot idf(t,D)$"
      ]
    },
    {
      "cell_type": "code",
      "metadata": {
        "colab": {
          "base_uri": "https://localhost:8080/"
        },
        "id": "qrlXlNSdNLyp",
        "outputId": "44310ad9-c4da-4479-f0a0-ff9b22440fba"
      },
      "source": [
        "tfidf_out = tfidf.fit_transform(stemmed_text)\n",
        "tfidf_out.toarray()"
      ],
      "execution_count": null,
      "outputs": [
        {
          "output_type": "execute_result",
          "data": {
            "text/plain": [
              "array([[0.11470787, 0.11470787, 0.45883147, 0.11470787, 0.57353933,\n",
              "        0.11470787, 0.11470787, 0.11470787, 0.11470787, 0.11470787,\n",
              "        0.11470787, 0.22941573, 0.11470787, 0.11470787, 0.11470787,\n",
              "        0.11470787, 0.11470787, 0.11470787, 0.11470787, 0.11470787,\n",
              "        0.22941573, 0.11470787, 0.11470787, 0.11470787, 0.11470787,\n",
              "        0.22941573, 0.11470787, 0.11470787]])"
            ]
          },
          "metadata": {
            "tags": []
          },
          "execution_count": 23
        }
      ]
    },
    {
      "cell_type": "markdown",
      "metadata": {
        "id": "HxldEah_Ql9m"
      },
      "source": [
        "### Now for a real dataset"
      ]
    },
    {
      "cell_type": "code",
      "metadata": {
        "id": "1lZRBXnUsVhR"
      },
      "source": [
        "import tensorflow as tf\n",
        "import tensorflow_datasets as tfds"
      ],
      "execution_count": null,
      "outputs": []
    },
    {
      "cell_type": "code",
      "metadata": {
        "id": "kXy7NqJFpIqq"
      },
      "source": [
        "# We'll load the IMDB Reviews dataset via Tensorflow's dataset library\n",
        "imdb = tfds.load('imdb_reviews', split='train', shuffle_files=True)"
      ],
      "execution_count": null,
      "outputs": []
    },
    {
      "cell_type": "code",
      "metadata": {
        "id": "Y9u95cuesCPA"
      },
      "source": [
        "# This cell may take a moment to run...\n",
        "df = tfds.as_dataframe(imdb)"
      ],
      "execution_count": null,
      "outputs": []
    },
    {
      "cell_type": "code",
      "metadata": {
        "id": "XqTvG-0PTD3c"
      },
      "source": [
        "df = pd.DataFrame(df)"
      ],
      "execution_count": null,
      "outputs": []
    },
    {
      "cell_type": "code",
      "metadata": {
        "colab": {
          "base_uri": "https://localhost:8080/",
          "height": 198
        },
        "id": "9rxwGuJCTb_7",
        "outputId": "75408890-ad36-460e-e6f9-5f6b18903868"
      },
      "source": [
        "df.head()"
      ],
      "execution_count": null,
      "outputs": [
        {
          "output_type": "execute_result",
          "data": {
            "text/html": [
              "<div>\n",
              "<style scoped>\n",
              "    .dataframe tbody tr th:only-of-type {\n",
              "        vertical-align: middle;\n",
              "    }\n",
              "\n",
              "    .dataframe tbody tr th {\n",
              "        vertical-align: top;\n",
              "    }\n",
              "\n",
              "    .dataframe thead th {\n",
              "        text-align: right;\n",
              "    }\n",
              "</style>\n",
              "<table border=\"1\" class=\"dataframe\">\n",
              "  <thead>\n",
              "    <tr style=\"text-align: right;\">\n",
              "      <th></th>\n",
              "      <th>label</th>\n",
              "      <th>text</th>\n",
              "    </tr>\n",
              "  </thead>\n",
              "  <tbody>\n",
              "    <tr>\n",
              "      <th>0</th>\n",
              "      <td>0</td>\n",
              "      <td>b\"This was an absolutely terrible movie. Don't...</td>\n",
              "    </tr>\n",
              "    <tr>\n",
              "      <th>1</th>\n",
              "      <td>0</td>\n",
              "      <td>b'I have been known to fall asleep during film...</td>\n",
              "    </tr>\n",
              "    <tr>\n",
              "      <th>2</th>\n",
              "      <td>0</td>\n",
              "      <td>b'Mann photographs the Alberta Rocky Mountains...</td>\n",
              "    </tr>\n",
              "    <tr>\n",
              "      <th>3</th>\n",
              "      <td>1</td>\n",
              "      <td>b'This is the kind of film for a snowy Sunday ...</td>\n",
              "    </tr>\n",
              "    <tr>\n",
              "      <th>4</th>\n",
              "      <td>1</td>\n",
              "      <td>b'As others have mentioned, all the women that...</td>\n",
              "    </tr>\n",
              "  </tbody>\n",
              "</table>\n",
              "</div>"
            ],
            "text/plain": [
              "   label                                               text\n",
              "0      0  b\"This was an absolutely terrible movie. Don't...\n",
              "1      0  b'I have been known to fall asleep during film...\n",
              "2      0  b'Mann photographs the Alberta Rocky Mountains...\n",
              "3      1  b'This is the kind of film for a snowy Sunday ...\n",
              "4      1  b'As others have mentioned, all the women that..."
            ]
          },
          "metadata": {
            "tags": []
          },
          "execution_count": 28
        }
      ]
    },
    {
      "cell_type": "code",
      "metadata": {
        "id": "CjQqw-EktaDN"
      },
      "source": [
        "# We'll convert the text column to text from bytes\n",
        "df.text = df.text.apply(bytes.decode)"
      ],
      "execution_count": null,
      "outputs": []
    },
    {
      "cell_type": "code",
      "metadata": {
        "colab": {
          "base_uri": "https://localhost:8080/"
        },
        "id": "vexL1PvBuYkB",
        "outputId": "47a93635-f7ca-4758-95ef-613bda4d3bd1"
      },
      "source": [
        "# How many positive reviews vs negative reviews are there?\n",
        "df.label.value_counts()"
      ],
      "execution_count": null,
      "outputs": [
        {
          "output_type": "execute_result",
          "data": {
            "text/plain": [
              "1    12500\n",
              "0    12500\n",
              "Name: label, dtype: int64"
            ]
          },
          "metadata": {
            "tags": []
          },
          "execution_count": 30
        }
      ]
    },
    {
      "cell_type": "code",
      "metadata": {
        "colab": {
          "base_uri": "https://localhost:8080/",
          "height": 265
        },
        "id": "EJX8BGrktcsy",
        "outputId": "a7d83df4-842f-4fcc-98ec-85e30444e746"
      },
      "source": [
        "import matplotlib.pyplot as plt\n",
        "import seaborn as sns\n",
        "\n",
        "df.label.plot(kind='hist');"
      ],
      "execution_count": null,
      "outputs": [
        {
          "output_type": "display_data",
          "data": {
            "image/png": "[encoded data removed]",
            "text/plain": [
              "<Figure size 432x288 with 1 Axes>"
            ]
          },
          "metadata": {
            "tags": [],
            "needs_background": "light"
          }
        }
      ]
    },
    {
      "cell_type": "code",
      "metadata": {
        "colab": {
          "base_uri": "https://localhost:8080/",
          "height": 198
        },
        "id": "Zh8nnR5qS0VO",
        "outputId": "f233dfac-0226-43ba-bcb4-65fbb1e3b0b9"
      },
      "source": [
        "df.head()"
      ],
      "execution_count": null,
      "outputs": [
        {
          "output_type": "execute_result",
          "data": {
            "text/html": [
              "<div>\n",
              "<style scoped>\n",
              "    .dataframe tbody tr th:only-of-type {\n",
              "        vertical-align: middle;\n",
              "    }\n",
              "\n",
              "    .dataframe tbody tr th {\n",
              "        vertical-align: top;\n",
              "    }\n",
              "\n",
              "    .dataframe thead th {\n",
              "        text-align: right;\n",
              "    }\n",
              "</style>\n",
              "<table border=\"1\" class=\"dataframe\">\n",
              "  <thead>\n",
              "    <tr style=\"text-align: right;\">\n",
              "      <th></th>\n",
              "      <th>label</th>\n",
              "      <th>text</th>\n",
              "    </tr>\n",
              "  </thead>\n",
              "  <tbody>\n",
              "    <tr>\n",
              "      <th>0</th>\n",
              "      <td>0</td>\n",
              "      <td>This was an absolutely terrible movie. Don't b...</td>\n",
              "    </tr>\n",
              "    <tr>\n",
              "      <th>1</th>\n",
              "      <td>0</td>\n",
              "      <td>I have been known to fall asleep during films,...</td>\n",
              "    </tr>\n",
              "    <tr>\n",
              "      <th>2</th>\n",
              "      <td>0</td>\n",
              "      <td>Mann photographs the Alberta Rocky Mountains i...</td>\n",
              "    </tr>\n",
              "    <tr>\n",
              "      <th>3</th>\n",
              "      <td>1</td>\n",
              "      <td>This is the kind of film for a snowy Sunday af...</td>\n",
              "    </tr>\n",
              "    <tr>\n",
              "      <th>4</th>\n",
              "      <td>1</td>\n",
              "      <td>As others have mentioned, all the women that g...</td>\n",
              "    </tr>\n",
              "  </tbody>\n",
              "</table>\n",
              "</div>"
            ],
            "text/plain": [
              "   label                                               text\n",
              "0      0  This was an absolutely terrible movie. Don't b...\n",
              "1      0  I have been known to fall asleep during films,...\n",
              "2      0  Mann photographs the Alberta Rocky Mountains i...\n",
              "3      1  This is the kind of film for a snowy Sunday af...\n",
              "4      1  As others have mentioned, all the women that g..."
            ]
          },
          "metadata": {
            "tags": []
          },
          "execution_count": 32
        }
      ]
    },
    {
      "cell_type": "code",
      "metadata": {
        "colab": {
          "base_uri": "https://localhost:8080/"
        },
        "id": "eH9NyufQS8Gc",
        "outputId": "c30b9cd2-1e1d-4a80-8d5e-2986c2a9b1d9"
      },
      "source": [
        "type(df)"
      ],
      "execution_count": null,
      "outputs": [
        {
          "output_type": "execute_result",
          "data": {
            "text/plain": [
              "pandas.core.frame.DataFrame"
            ]
          },
          "metadata": {
            "tags": []
          },
          "execution_count": 33
        }
      ]
    },
    {
      "cell_type": "code",
      "metadata": {
        "colab": {
          "base_uri": "https://localhost:8080/",
          "height": 126
        },
        "id": "ft-w7G9aqczd",
        "outputId": "1d92b58a-0609-481c-b315-a82d4ce92386"
      },
      "source": [
        "# What does an example review actually look like?\n",
        "df.text[0]"
      ],
      "execution_count": null,
      "outputs": [
        {
          "output_type": "execute_result",
          "data": {
            "application/vnd.google.colaboratory.intrinsic+json": {
              "type": "string"
            },
            "text/plain": [
              "\"This was an absolutely terrible movie. Don't be lured in by Christopher Walken or Michael Ironside. Both are great actors, but this must simply be their worst role in history. Even their great acting could not redeem this movie's ridiculous storyline. This movie is an early nineties US propaganda piece. The most pathetic scenes were those when the Columbian rebels were making their cases for revolutions. Maria Conchita Alonso appeared phony, and her pseudo-love affair with Walken was nothing but a pathetic emotional plug in a movie that was devoid of any real meaning. I am disappointed that there are movies like this, ruining actor's like Christopher Walken's good name. I could barely sit through it.\""
            ]
          },
          "metadata": {
            "tags": []
          },
          "execution_count": 34
        }
      ]
    },
    {
      "cell_type": "code",
      "metadata": {
        "colab": {
          "base_uri": "https://localhost:8080/"
        },
        "id": "NL_Slf1WTj9J",
        "outputId": "fa3a30a8-80b0-4f2f-d402-50fd59b8544c"
      },
      "source": [
        "df.columns"
      ],
      "execution_count": null,
      "outputs": [
        {
          "output_type": "execute_result",
          "data": {
            "text/plain": [
              "Index(['label', 'text'], dtype='object')"
            ]
          },
          "metadata": {
            "tags": []
          },
          "execution_count": 35
        }
      ]
    },
    {
      "cell_type": "code",
      "metadata": {
        "id": "i_Iot_GhvMJj"
      },
      "source": [
        "# Fortunately, there exist many libraries that can help us do all \n",
        "# the data cleaning we need to in a couple simple steps"
      ],
      "execution_count": null,
      "outputs": []
    },
    {
      "cell_type": "code",
      "metadata": {
        "id": "Bez_1oVrvMGQ"
      },
      "source": [
        "import gensim\n",
        "\n",
        "from gensim import parsing"
      ],
      "execution_count": null,
      "outputs": []
    },
    {
      "cell_type": "code",
      "metadata": {
        "id": "DleTwVosvMDY"
      },
      "source": [
        "# This may take a few seconds to run...\n",
        "processed_text = parsing.preprocess_documents(df.text)"
      ],
      "execution_count": null,
      "outputs": []
    },
    {
      "cell_type": "code",
      "metadata": {
        "colab": {
          "base_uri": "https://localhost:8080/"
        },
        "id": "N2S3qLifvL1Y",
        "outputId": "c9569586-7868-4575-f7a5-64c71c60a8b6"
      },
      "source": [
        "processed_text[0][0:10]"
      ],
      "execution_count": null,
      "outputs": [
        {
          "output_type": "execute_result",
          "data": {
            "text/plain": [
              "['absolut',\n",
              " 'terribl',\n",
              " 'movi',\n",
              " 'lure',\n",
              " 'christoph',\n",
              " 'walken',\n",
              " 'michael',\n",
              " 'ironsid',\n",
              " 'great',\n",
              " 'actor']"
            ]
          },
          "metadata": {
            "tags": []
          },
          "execution_count": 39
        }
      ]
    },
    {
      "cell_type": "code",
      "metadata": {
        "id": "6t3zV2jprwWN"
      },
      "source": [
        "df['cleaned_text'] = [' '.join(word) for word in processed_text]"
      ],
      "execution_count": null,
      "outputs": []
    },
    {
      "cell_type": "code",
      "metadata": {
        "colab": {
          "base_uri": "https://localhost:8080/",
          "height": 138
        },
        "id": "oBfmtnWcsMV5",
        "outputId": "2d5753df-c412-4aff-a935-3bb05c4f9be0"
      },
      "source": [
        "df.head(3)"
      ],
      "execution_count": null,
      "outputs": [
        {
          "output_type": "execute_result",
          "data": {
            "text/html": [
              "<div>\n",
              "<style scoped>\n",
              "    .dataframe tbody tr th:only-of-type {\n",
              "        vertical-align: middle;\n",
              "    }\n",
              "\n",
              "    .dataframe tbody tr th {\n",
              "        vertical-align: top;\n",
              "    }\n",
              "\n",
              "    .dataframe thead th {\n",
              "        text-align: right;\n",
              "    }\n",
              "</style>\n",
              "<table border=\"1\" class=\"dataframe\">\n",
              "  <thead>\n",
              "    <tr style=\"text-align: right;\">\n",
              "      <th></th>\n",
              "      <th>label</th>\n",
              "      <th>text</th>\n",
              "      <th>cleaned_text</th>\n",
              "    </tr>\n",
              "  </thead>\n",
              "  <tbody>\n",
              "    <tr>\n",
              "      <th>0</th>\n",
              "      <td>0</td>\n",
              "      <td>This was an absolutely terrible movie. Don't b...</td>\n",
              "      <td>absolut terribl movi lure christoph walken mic...</td>\n",
              "    </tr>\n",
              "    <tr>\n",
              "      <th>1</th>\n",
              "      <td>0</td>\n",
              "      <td>I have been known to fall asleep during films,...</td>\n",
              "      <td>known fall asleep film usual combin thing incl...</td>\n",
              "    </tr>\n",
              "    <tr>\n",
              "      <th>2</th>\n",
              "      <td>0</td>\n",
              "      <td>Mann photographs the Alberta Rocky Mountains i...</td>\n",
              "      <td>mann photograph alberta rocki mountain superb ...</td>\n",
              "    </tr>\n",
              "  </tbody>\n",
              "</table>\n",
              "</div>"
            ],
            "text/plain": [
              "   label  ...                                       cleaned_text\n",
              "0      0  ...  absolut terribl movi lure christoph walken mic...\n",
              "1      0  ...  known fall asleep film usual combin thing incl...\n",
              "2      0  ...  mann photograph alberta rocki mountain superb ...\n",
              "\n",
              "[3 rows x 3 columns]"
            ]
          },
          "metadata": {
            "tags": []
          },
          "execution_count": 41
        }
      ]
    },
    {
      "cell_type": "code",
      "metadata": {
        "id": "lGrjpqIPsXHc"
      },
      "source": [
        "from sklearn.model_selection import train_test_split\n",
        "\n",
        "# Now we will split our dataset into training and test sets\n",
        "text_train, text_test, y_train, y_test = train_test_split(df.drop(['label', 'text'], axis=1),\n",
        "                                                          df['label'], stratify=df['label'],\n",
        "                                                          random_state=2020)"
      ],
      "execution_count": null,
      "outputs": []
    },
    {
      "cell_type": "code",
      "metadata": {
        "id": "RNBe3gsNvKix"
      },
      "source": [
        "cv = CountVectorizer()\n",
        "tfidf = TfidfVectorizer()"
      ],
      "execution_count": null,
      "outputs": []
    },
    {
      "cell_type": "code",
      "metadata": {
        "colab": {
          "base_uri": "https://localhost:8080/"
        },
        "id": "ueGJ9gLXsk3O",
        "outputId": "e16f30ce-3e2e-42b6-da4d-e256292267cb"
      },
      "source": [
        "# We fit on only the training set\n",
        "tfidf.fit(text_train.cleaned_text)"
      ],
      "execution_count": null,
      "outputs": [
        {
          "output_type": "execute_result",
          "data": {
            "text/plain": [
              "TfidfVectorizer(analyzer='word', binary=False, decode_error='strict',\n",
              "                dtype=<class 'numpy.float64'>, encoding='utf-8',\n",
              "                input='content', lowercase=True, max_df=1.0, max_features=None,\n",
              "                min_df=1, ngram_range=(1, 1), norm='l2', preprocessor=None,\n",
              "                smooth_idf=True, stop_words=None, strip_accents=None,\n",
              "                sublinear_tf=False, token_pattern='(?u)\\\\b\\\\w\\\\w+\\\\b',\n",
              "                tokenizer=None, use_idf=True, vocabulary=None)"
            ]
          },
          "metadata": {
            "tags": []
          },
          "execution_count": 44
        }
      ]
    },
    {
      "cell_type": "code",
      "metadata": {
        "id": "imUJW_Wfskub"
      },
      "source": [
        "# And transform the text using our fit transformer\n",
        "tfidf_out = tfidf.transform(text_train.cleaned_text)"
      ],
      "execution_count": null,
      "outputs": []
    },
    {
      "cell_type": "code",
      "metadata": {
        "colab": {
          "base_uri": "https://localhost:8080/"
        },
        "id": "hlrxXluPummO",
        "outputId": "40d120e5-75c6-4e88-83ed-ba8fc2dabca9"
      },
      "source": [
        "tfidf_out"
      ],
      "execution_count": null,
      "outputs": [
        {
          "output_type": "execute_result",
          "data": {
            "text/plain": [
              "<18750x44929 sparse matrix of type '<class 'numpy.float64'>'\n",
              "\twith 1533828 stored elements in Compressed Sparse Row format>"
            ]
          },
          "metadata": {
            "tags": []
          },
          "execution_count": 46
        }
      ]
    },
    {
      "cell_type": "code",
      "metadata": {
        "colab": {
          "base_uri": "https://localhost:8080/"
        },
        "id": "rtHPnwSVtpsW",
        "outputId": "fdb38336-759d-418f-8365-ac1b2f221f75"
      },
      "source": [
        "from sklearn.linear_model import LogisticRegression\n",
        "\n",
        "import numpy as np\n",
        "\n",
        "# Here we create a logistic regression model that can be used for binary predictions\n",
        "lr = LogisticRegression()\n",
        "lr.fit(tfidf_out, list(y_train))"
      ],
      "execution_count": null,
      "outputs": [
        {
          "output_type": "execute_result",
          "data": {
            "text/plain": [
              "LogisticRegression(C=1.0, class_weight=None, dual=False, fit_intercept=True,\n",
              "                   intercept_scaling=1, l1_ratio=None, max_iter=100,\n",
              "                   multi_class='auto', n_jobs=None, penalty='l2',\n",
              "                   random_state=None, solver='lbfgs', tol=0.0001, verbose=0,\n",
              "                   warm_start=False)"
            ]
          },
          "metadata": {
            "tags": []
          },
          "execution_count": 47
        }
      ]
    },
    {
      "cell_type": "code",
      "metadata": {
        "id": "fR0ZxcLHvBhB"
      },
      "source": [
        "from sklearn import metrics\n",
        "\n",
        "# We use the same vectorizer on the test set to simulate so we don't include\n",
        "# words that were not in our training dataset\n",
        "\n",
        "test_tfidf_out = tfidf.transform(text_test.cleaned_text)\n",
        "\n",
        "# Then we use that output matrix and store the logistic regression model's\n",
        "# predictions\n",
        "\n",
        "predicted = lr.predict(test_tfidf_out)"
      ],
      "execution_count": null,
      "outputs": []
    },
    {
      "cell_type": "markdown",
      "metadata": {
        "id": "LOzk-D5fB-I-"
      },
      "source": [
        "Learn all about [metrics](https://scikit-learn.org/stable/modules/model_evaluation.html)"
      ]
    },
    {
      "cell_type": "code",
      "metadata": {
        "colab": {
          "base_uri": "https://localhost:8080/"
        },
        "id": "2KwmxE92vdNw",
        "outputId": "49e056eb-a5b1-46de-ed70-69d8d37b1a02"
      },
      "source": [
        "accuracy = metrics.accuracy_score(y_test, predicted)\n",
        "print(f'Accuracy: {accuracy}')\n",
        "\n",
        "precision = metrics.precision_score(y_test, predicted)\n",
        "print(f'Precision: {precision}')\n",
        "\n",
        "recall = metrics.recall_score(y_test, predicted)\n",
        "print(f'Recall: {recall}')\n",
        "\n",
        "f1 = metrics.f1_score(y_test, predicted)\n",
        "print(f'F1 Score: {f1}')"
      ],
      "execution_count": null,
      "outputs": [
        {
          "output_type": "stream",
          "text": [
            "Accuracy: 0.88048\n",
            "Precision: 0.8692546583850932\n",
            "Recall: 0.89568\n",
            "F1 Score: 0.8822695035460993\n"
          ],
          "name": "stdout"
        }
      ]
    },
    {
      "cell_type": "code",
      "metadata": {
        "colab": {
          "base_uri": "https://localhost:8080/",
          "height": 541
        },
        "id": "rodg1C6wwfQ8",
        "outputId": "c8de2d08-6333-46b5-ae95-6a99da3a6a68"
      },
      "source": [
        "metrics.plot_roc_curve(lr, test_tfidf_out, y_test)\n",
        "\n",
        "metrics.plot_precision_recall_curve(lr, test_tfidf_out, y_test);"
      ],
      "execution_count": null,
      "outputs": [
        {
          "output_type": "display_data",
          "data": {
            "image/png": "[encoded data removed]",
            "text/plain": [
              "<Figure size 432x288 with 1 Axes>"
            ]
          },
          "metadata": {
            "tags": [],
            "needs_background": "light"
          }
        },
        {
          "output_type": "display_data",
          "data": {
            "image/png": "[encoded data removed]",
            "text/plain": [
              "<Figure size 432x288 with 1 Axes>"
            ]
          },
          "metadata": {
            "tags": [],
            "needs_background": "light"
          }
        }
      ]
    },
    {
      "cell_type": "markdown",
      "metadata": {
        "id": "L2O_p2Ml4tPY"
      },
      "source": [
        "# Whats next?\n",
        "\n",
        "### Keep Learning:\n",
        "The most important thing to do it keep learning!\n",
        "- [Intro to Python Part 2](https://www.eventbrite.com/e/intro-to-python-part-2-live-online-tickets-127409317699)\n",
        "- [Data Science Prep Course](https://bit.ly/DSIPREP-32q7lQj) \n",
        "\n",
        "\n",
        "See all upcoming Galvanize online events [here](https://www.hackreactor.com/webinars)\n",
        "\n",
        "### More challenge ideas:\n",
        "- Find new datasets to try and apply NLP\n",
        "- Try using NLP to create features for a regression model\n",
        "- Can you find any relationships between positive reviews and the product price?\n",
        "\n",
        "### Stay Connected:\n",
        "- Linkedin: [https://www.linkedin.com/in/andrewmeans/](https://www.linkedin.com/in/andrewmeans/)\n",
        "\n",
        "- email: andrew.means@galvanize.com"
      ]
    },
    {
      "cell_type": "markdown",
      "metadata": {
        "id": "J8f-5MzBxqnK"
      },
      "source": [
        "Additional Exercise:\n",
        "\n",
        "Try the preprocessing steps above on the dataset below."
      ]
    },
    {
      "cell_type": "code",
      "metadata": {
        "colab": {
          "base_uri": "https://localhost:8080/"
        },
        "id": "-sioO5UIO8FO",
        "outputId": "0da3dfc9-3b65-4957-f997-0287355754e7"
      },
      "source": [
        "# Pet Supply Reviews from Amazon provided by Stanford\n",
        "!wget http://snap.stanford.edu/data/amazon/Pet_Supplies.txt.gz"
      ],
      "execution_count": null,
      "outputs": [
        {
          "output_type": "stream",
          "text": [
            "--2020-12-08 01:12:33--  http://snap.stanford.edu/data/amazon/Pet_Supplies.txt.gz\n",
            "Resolving snap.stanford.edu (snap.stanford.edu)... 171.64.75.80\n",
            "Connecting to snap.stanford.edu (snap.stanford.edu)|171.64.75.80|:80... connected.\n",
            "HTTP request sent, awaiting response... 200 OK\n",
            "Length: 49313367 (47M) [application/x-gzip]\n",
            "Saving to: ‘Pet_Supplies.txt.gz’\n",
            "\n",
            "Pet_Supplies.txt.gz 100%[===================>]  47.03M  7.48MB/s    in 5.2s    \n",
            "\n",
            "2020-12-08 01:12:38 (9.08 MB/s) - ‘Pet_Supplies.txt.gz’ saved [49313367/49313367]\n",
            "\n"
          ],
          "name": "stdout"
        }
      ]
    },
    {
      "cell_type": "code",
      "metadata": {
        "colab": {
          "base_uri": "https://localhost:8080/"
        },
        "id": "qJdre0POQfgx",
        "outputId": "6ca80079-bac0-4f6b-b364-5c2f362b88c4"
      },
      "source": [
        "# Also required for the parser\n",
        "!pip install simplejson"
      ],
      "execution_count": null,
      "outputs": [
        {
          "output_type": "stream",
          "text": [
            "Collecting simplejson\n",
            "\u001b[?25l  Downloading https://files.pythonhosted.org/packages/73/96/1e6b19045375890068d7342cbe280dd64ae73fd90b9735b5efb8d1e044a1/simplejson-3.17.2-cp36-cp36m-manylinux2010_x86_64.whl (127kB)\n",
            "\r\u001b[K     |██▋                             | 10kB 18.3MB/s eta 0:00:01\r\u001b[K     |█████▏                          | 20kB 14.1MB/s eta 0:00:01\r\u001b[K     |███████▊                        | 30kB 13.6MB/s eta 0:00:01\r\u001b[K     |██████████▎                     | 40kB 12.6MB/s eta 0:00:01\r\u001b[K     |████████████▉                   | 51kB 9.1MB/s eta 0:00:01\r\u001b[K     |███████████████▍                | 61kB 8.1MB/s eta 0:00:01\r\u001b[K     |██████████████████              | 71kB 9.2MB/s eta 0:00:01\r\u001b[K     |████████████████████▌           | 81kB 10.2MB/s eta 0:00:01\r\u001b[K     |███████████████████████         | 92kB 10.5MB/s eta 0:00:01\r\u001b[K     |█████████████████████████▋      | 102kB 8.7MB/s eta 0:00:01\r\u001b[K     |████████████████████████████▏   | 112kB 8.7MB/s eta 0:00:01\r\u001b[K     |██████████████████████████████▊ | 122kB 8.7MB/s eta 0:00:01\r\u001b[K     |████████████████████████████████| 133kB 8.7MB/s \n",
            "\u001b[?25hInstalling collected packages: simplejson\n",
            "Successfully installed simplejson-3.17.2\n"
          ],
          "name": "stdout"
        }
      ]
    },
    {
      "cell_type": "code",
      "metadata": {
        "id": "LNznN6PEPBr4"
      },
      "source": [
        "# The following code was provided on the original dataset website\n",
        "\n",
        "import gzip\n",
        "import simplejson\n",
        "\n",
        "def parse(filename):\n",
        "  f = gzip.open(filename, 'rt')\n",
        "  entry = {}\n",
        "  for l in f:\n",
        "    l = l.strip()\n",
        "    l = str(l)\n",
        "    colonPos = l.find(':')\n",
        "    if colonPos == -1:\n",
        "      yield entry\n",
        "      entry = {}\n",
        "      continue\n",
        "    eName = l[:colonPos]\n",
        "    rest = l[colonPos+2:]\n",
        "    entry[eName] = rest\n",
        "  yield entry"
      ],
      "execution_count": null,
      "outputs": []
    },
    {
      "cell_type": "code",
      "metadata": {
        "id": "bizVa__TPDk8"
      },
      "source": [
        "review_rows = [e for e in parse(\"Pet_Supplies.txt.gz\")]"
      ],
      "execution_count": null,
      "outputs": []
    },
    {
      "cell_type": "code",
      "metadata": {
        "id": "QCoiii_YRYbN"
      },
      "source": [
        "review_df = pd.DataFrame.from_records(review_rows)"
      ],
      "execution_count": null,
      "outputs": []
    },
    {
      "cell_type": "code",
      "metadata": {
        "colab": {
          "base_uri": "https://localhost:8080/",
          "height": 477
        },
        "id": "H5btnPvvRbkk",
        "outputId": "6d11c2b0-4f6c-4afa-a907-0a88572d612c"
      },
      "source": [
        "review_df.head()"
      ],
      "execution_count": null,
      "outputs": [
        {
          "output_type": "execute_result",
          "data": {
            "text/html": [
              "<div>\n",
              "<style scoped>\n",
              "    .dataframe tbody tr th:only-of-type {\n",
              "        vertical-align: middle;\n",
              "    }\n",
              "\n",
              "    .dataframe tbody tr th {\n",
              "        vertical-align: top;\n",
              "    }\n",
              "\n",
              "    .dataframe thead th {\n",
              "        text-align: right;\n",
              "    }\n",
              "</style>\n",
              "<table border=\"1\" class=\"dataframe\">\n",
              "  <thead>\n",
              "    <tr style=\"text-align: right;\">\n",
              "      <th></th>\n",
              "      <th>product/productId</th>\n",
              "      <th>product/title</th>\n",
              "      <th>product/price</th>\n",
              "      <th>review/userId</th>\n",
              "      <th>review/profileName</th>\n",
              "      <th>review/helpfulness</th>\n",
              "      <th>review/score</th>\n",
              "      <th>review/time</th>\n",
              "      <th>review/summary</th>\n",
              "      <th>review/text</th>\n",
              "    </tr>\n",
              "  </thead>\n",
              "  <tbody>\n",
              "    <tr>\n",
              "      <th>0</th>\n",
              "      <td>B000O1CRYW</td>\n",
              "      <td>Orbee Tuff Ball Orange - SMALL</td>\n",
              "      <td>6.95</td>\n",
              "      <td>A2FEQ9XL6ML51C</td>\n",
              "      <td>Just an everyday Dad</td>\n",
              "      <td>1/1</td>\n",
              "      <td>5.0</td>\n",
              "      <td>1286064000</td>\n",
              "      <td>Little Ball, for Little Dogs...</td>\n",
              "      <td>Great Toy, hard to find! We get ours online he...</td>\n",
              "    </tr>\n",
              "    <tr>\n",
              "      <th>1</th>\n",
              "      <td>B000O1CRYW</td>\n",
              "      <td>Orbee Tuff Ball Orange - SMALL</td>\n",
              "      <td>6.95</td>\n",
              "      <td>A183LI95B2WNUQ</td>\n",
              "      <td>V. J. Mcmillen \"vmcmillen\"</td>\n",
              "      <td>1/1</td>\n",
              "      <td>5.0</td>\n",
              "      <td>1230249600</td>\n",
              "      <td>glow ball</td>\n",
              "      <td>I have bought several of these small Orbee Tuf...</td>\n",
              "    </tr>\n",
              "    <tr>\n",
              "      <th>2</th>\n",
              "      <td>B000O1CRYW</td>\n",
              "      <td>Orbee Tuff Ball Orange - SMALL</td>\n",
              "      <td>6.95</td>\n",
              "      <td>A1LSSENM0XIQQR</td>\n",
              "      <td>gcoronado4</td>\n",
              "      <td>0/0</td>\n",
              "      <td>3.0</td>\n",
              "      <td>1309046400</td>\n",
              "      <td>Too Big</td>\n",
              "      <td>It is a quality ball but the small is still to...</td>\n",
              "    </tr>\n",
              "    <tr>\n",
              "      <th>3</th>\n",
              "      <td>B000O1CRYW</td>\n",
              "      <td>Orbee Tuff Ball Orange - SMALL</td>\n",
              "      <td>6.95</td>\n",
              "      <td>A2E5PZE1PZVK38</td>\n",
              "      <td>jerry</td>\n",
              "      <td>0/0</td>\n",
              "      <td>5.0</td>\n",
              "      <td>1308873600</td>\n",
              "      <td>no good</td>\n",
              "      <td>I gave it 5 stars because my little dog had so...</td>\n",
              "    </tr>\n",
              "    <tr>\n",
              "      <th>4</th>\n",
              "      <td>B0002ARHAE</td>\n",
              "      <td>Kent Marine Pro-Clear Freshwater Clarifier</td>\n",
              "      <td>3.73</td>\n",
              "      <td>A3PXLJE4OPIQTY</td>\n",
              "      <td>M. Thomas \"sea_anemone\"</td>\n",
              "      <td>0/0</td>\n",
              "      <td>5.0</td>\n",
              "      <td>1356912000</td>\n",
              "      <td>Best clarifier ever</td>\n",
              "      <td>I've used many products to try and help the wa...</td>\n",
              "    </tr>\n",
              "  </tbody>\n",
              "</table>\n",
              "</div>"
            ],
            "text/plain": [
              "  product/productId  ...                                        review/text\n",
              "0        B000O1CRYW  ...  Great Toy, hard to find! We get ours online he...\n",
              "1        B000O1CRYW  ...  I have bought several of these small Orbee Tuf...\n",
              "2        B000O1CRYW  ...  It is a quality ball but the small is still to...\n",
              "3        B000O1CRYW  ...  I gave it 5 stars because my little dog had so...\n",
              "4        B0002ARHAE  ...  I've used many products to try and help the wa...\n",
              "\n",
              "[5 rows x 10 columns]"
            ]
          },
          "metadata": {
            "tags": []
          },
          "execution_count": 56
        }
      ]
    },
    {
      "cell_type": "code",
      "metadata": {
        "colab": {
          "base_uri": "https://localhost:8080/"
        },
        "id": "TvR42EgLTtbF",
        "outputId": "42341233-7936-4f98-bde6-01bd9f61eeee"
      },
      "source": [
        "# Download the vader sentiment analyzer\n",
        "nltk.download('vader_lexicon')"
      ],
      "execution_count": null,
      "outputs": [
        {
          "output_type": "stream",
          "text": [
            "[nltk_data] Downloading package vader_lexicon to /root/nltk_data...\n"
          ],
          "name": "stdout"
        },
        {
          "output_type": "execute_result",
          "data": {
            "text/plain": [
              "True"
            ]
          },
          "metadata": {
            "tags": []
          },
          "execution_count": 57
        }
      ]
    },
    {
      "cell_type": "code",
      "metadata": {
        "id": "Aya8WTCRThUB",
        "colab": {
          "base_uri": "https://localhost:8080/"
        },
        "outputId": "17bb2b39-86d4-4f94-8c08-0350da18b1af"
      },
      "source": [
        "from nltk.sentiment.vader import SentimentIntensityAnalyzer\n",
        "\n",
        "vader = SentimentIntensityAnalyzer()"
      ],
      "execution_count": null,
      "outputs": [
        {
          "output_type": "stream",
          "text": [
            "/usr/local/lib/python3.6/dist-packages/nltk/twitter/__init__.py:20: UserWarning: The twython library has not been installed. Some functionality from the twitter package will not be available.\n",
            "  warnings.warn(\"The twython library has not been installed. \"\n"
          ],
          "name": "stderr"
        }
      ]
    },
    {
      "cell_type": "code",
      "metadata": {
        "colab": {
          "base_uri": "https://localhost:8080/"
        },
        "id": "ID3w_rQMTohf",
        "outputId": "ba168940-66a3-41fb-c032-febf36201693"
      },
      "source": [
        "for i in range(5):\n",
        "  print(review_df['review/text'][i])\n",
        "  print(vader.polarity_scores(review_df['review/text'][i]))\n",
        "  print()"
      ],
      "execution_count": null,
      "outputs": [
        {
          "output_type": "stream",
          "text": [
            "Great Toy, hard to find! We get ours online here or shipped from a friend in America!Our little Papillion-Yorkie mix loves it. Every night I am in the back garden kicking the ball for him! He destroys tennis balls by chewing off the fluff and our wee dog finds them to big to carry/catch. We stumbled across this in our local petstore and our dog was hooked! Sadly, local pet store no longer imports them.Stars all around for this one!\n",
            "{'neg': 0.108, 'neu': 0.764, 'pos': 0.128, 'compound': 0.5999}\n",
            "\n",
            "I have bought several of these small Orbee Tuff balls, because my dog simple loves them! The orange ball does glow in the dark that makes it easy to find. I have nothing but good things to say about these small balls. The only down side is Trix, my dog, keeps loosing them!\n",
            "{'neg': 0.056, 'neu': 0.857, 'pos': 0.087, 'compound': 0.1962}\n",
            "\n",
            "It is a quality ball but the small is still too big and heavy for my little yorkie to play with comfortably.\n",
            "{'neg': 0.0, 'neu': 0.748, 'pos': 0.252, 'compound': 0.751}\n",
            "\n",
            "I gave it 5 stars because my little dog had so much fun riping it apart but only took him 24 hrs to do it buy that is 23 hrs longer than other balls\n",
            "{'neg': 0.0, 'neu': 0.931, 'pos': 0.069, 'compound': 0.3158}\n",
            "\n",
            "I've used many products to try and help the water clarity, but only kent marine was capable of successfully clearing the water every time. Caution though, adding it to water will drop the pH. Mix with tank water on the side and check pH before placing it in the tank.\n",
            "{'neg': 0.045, 'neu': 0.762, 'pos': 0.193, 'compound': 0.8294}\n",
            "\n"
          ],
          "name": "stdout"
        }
      ]
    },
    {
      "cell_type": "code",
      "metadata": {
        "id": "4K-ZMBqDT-TI"
      },
      "source": [
        "first_500 = review_df['review/text'][0:500].apply(vader.polarity_scores)[0:500]"
      ],
      "execution_count": null,
      "outputs": []
    },
    {
      "cell_type": "code",
      "metadata": {
        "id": "553M0kOI0vJV"
      },
      "source": [
        "plt.bar(review_df['review/score'][0:500], [x.get('pos') for x in first_500]);"
      ],
      "execution_count": null,
      "outputs": []
    }
  ]
}